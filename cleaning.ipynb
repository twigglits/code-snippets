{
 "cells": [
  {
   "cell_type": "code",
   "execution_count": 31,
   "metadata": {},
   "outputs": [
    {
     "name": "stdout",
     "output_type": "stream",
     "text": [
      "        a   b\n",
      "0   0.000   0\n",
      "1  22.000  12\n",
      "2  23.000  13\n",
      "3   0.000  14\n",
      "4  25.000  15\n",
      "5   2.094  16\n",
      "6  17.000  17\n",
      "7  18.000  18\n",
      "8   0.000   0\n",
      "9   0.000   0\n",
      "        a     b\n",
      "0   0.000   0.0\n",
      "1  22.000  12.0\n",
      "2  23.000  13.0\n",
      "3   0.000  14.0\n",
      "4  25.000  15.0\n",
      "5   2.094  16.0\n",
      "6  17.000  17.0\n",
      "7  18.000  18.0\n",
      "8   0.000   0.0\n",
      "9   0.000   0.0\n"
     ]
    }
   ],
   "source": [
    "import pandas as pd\n",
    "import numpy as np\n",
    "\n",
    "df = pd.DataFrame({\n",
    "    \"a\": [\"\", \"22\", \"23\", \"\", \"25\", \"2.094\", \"17\", \"18\", \"\", \"\"],\n",
    "    \"b\": [\"\", \"12\", \"13\", \"14\", \"15\", \"16\", \"17\", \"18\", \"\", \"\"]\n",
    "})\n",
    "# using list comprehension replace all empty strings with value of 0\n",
    "for col in df.columns:\n",
    "    df[col] = [\"0\" if x == \"\" else x for x in df[col]]\n",
    "\n",
    "for col in df.columns:\n",
    "    df[col] = df[col].astype(float)\n",
    "    print(df)"
   ]
  }
 ],
 "metadata": {
  "kernelspec": {
   "display_name": "Python 3.7.3 64-bit",
   "language": "python",
   "name": "python3"
  },
  "language_info": {
   "codemirror_mode": {
    "name": "ipython",
    "version": 3
   },
   "file_extension": ".py",
   "mimetype": "text/x-python",
   "name": "python",
   "nbconvert_exporter": "python",
   "pygments_lexer": "ipython3",
   "version": "3.10.6"
  },
  "orig_nbformat": 4,
  "vscode": {
   "interpreter": {
    "hash": "916dbcbb3f70747c44a77c7bcd40155683ae19c65e1c03b4aa3499c5328201f1"
   }
  }
 },
 "nbformat": 4,
 "nbformat_minor": 2
}
